{
 "cells": [
  {
   "cell_type": "code",
   "execution_count": 1,
   "id": "289d80d4",
   "metadata": {},
   "outputs": [
    {
     "name": "stdout",
     "output_type": "stream",
     "text": [
      "100\n"
     ]
    }
   ],
   "source": [
    "myvariable=100\n",
    "print(myvariable)"
   ]
  },
  {
   "cell_type": "code",
   "execution_count": 2,
   "id": "58e0f764",
   "metadata": {},
   "outputs": [
    {
     "ename": "SyntaxError",
     "evalue": "cannot assign to expression here. Maybe you meant '==' instead of '='? (126552669.py, line 1)",
     "output_type": "error",
     "traceback": [
      "\u001b[1;36m  Cell \u001b[1;32mIn[2], line 1\u001b[1;36m\u001b[0m\n\u001b[1;33m    my*variable=100\u001b[0m\n\u001b[1;37m    ^\u001b[0m\n\u001b[1;31mSyntaxError\u001b[0m\u001b[1;31m:\u001b[0m cannot assign to expression here. Maybe you meant '==' instead of '='?\n"
     ]
    }
   ],
   "source": [
    "my*variable=100\n",
    "print(my*variable)"
   ]
  },
  {
   "cell_type": "code",
   "execution_count": 3,
   "id": "da80e8e5",
   "metadata": {},
   "outputs": [
    {
     "name": "stdout",
     "output_type": "stream",
     "text": [
      "100\n"
     ]
    }
   ],
   "source": [
    "myvariable=100\n",
    "Myvariable=200\n",
    "MYVARIABLE=300\n",
    "print(myvariable)"
   ]
  },
  {
   "cell_type": "code",
   "execution_count": 4,
   "id": "8fed478b",
   "metadata": {},
   "outputs": [
    {
     "name": "stdout",
     "output_type": "stream",
     "text": [
      "200\n"
     ]
    }
   ],
   "source": [
    "print(Myvariable)"
   ]
  },
  {
   "cell_type": "code",
   "execution_count": 5,
   "id": "e9b5ba7a",
   "metadata": {},
   "outputs": [
    {
     "name": "stdout",
     "output_type": "stream",
     "text": [
      "I love Books\n"
     ]
    }
   ],
   "source": [
    "myvariable=100\n",
    "myvariable='I love Books'\n",
    "print(myvariable)"
   ]
  },
  {
   "cell_type": "code",
   "execution_count": 6,
   "id": "1066de73",
   "metadata": {},
   "outputs": [
    {
     "ename": "SyntaxError",
     "evalue": "invalid syntax (627995663.py, line 2)",
     "output_type": "error",
     "traceback": [
      "\u001b[1;36m  Cell \u001b[1;32mIn[6], line 2\u001b[1;36m\u001b[0m\n\u001b[1;33m    print(myvariable!)\u001b[0m\n\u001b[1;37m                    ^\u001b[0m\n\u001b[1;31mSyntaxError\u001b[0m\u001b[1;31m:\u001b[0m invalid syntax\n"
     ]
    }
   ],
   "source": [
    "myvariable!=100\n",
    "print(myvariable!)"
   ]
  },
  {
   "cell_type": "code",
   "execution_count": 7,
   "id": "d3fc61ce",
   "metadata": {},
   "outputs": [
    {
     "name": "stdout",
     "output_type": "stream",
     "text": [
      "100\n"
     ]
    }
   ],
   "source": [
    "my100variable=100\n",
    "print(my100variable)"
   ]
  },
  {
   "cell_type": "code",
   "execution_count": 8,
   "id": "fea2cbd8",
   "metadata": {},
   "outputs": [
    {
     "name": "stdout",
     "output_type": "stream",
     "text": [
      "100\n"
     ]
    }
   ],
   "source": [
    "\n",
    "_myvariable=100\n",
    "print(_myvariable)"
   ]
  },
  {
   "cell_type": "code",
   "execution_count": 9,
   "id": "23a2259b",
   "metadata": {},
   "outputs": [
    {
     "name": "stdout",
     "output_type": "stream",
     "text": [
      "100\n"
     ]
    }
   ],
   "source": [
    "myvariable_=100\n",
    "print(myvariable_)"
   ]
  },
  {
   "cell_type": "code",
   "execution_count": 10,
   "id": "316bbede",
   "metadata": {},
   "outputs": [
    {
     "name": "stdout",
     "output_type": "stream",
     "text": [
      "I love Books\n"
     ]
    }
   ],
   "source": [
    "my_variable=100\n",
    "print(myvariable)"
   ]
  },
  {
   "cell_type": "code",
   "execution_count": 13,
   "id": "edcdcc19",
   "metadata": {},
   "outputs": [],
   "source": [
    "del myvariable"
   ]
  },
  {
   "cell_type": "code",
   "execution_count": 14,
   "id": "c0f63243",
   "metadata": {},
   "outputs": [
    {
     "ename": "NameError",
     "evalue": "name 'myvariable' is not defined",
     "output_type": "error",
     "traceback": [
      "\u001b[1;31m---------------------------------------------------------------------------\u001b[0m",
      "\u001b[1;31mNameError\u001b[0m                                 Traceback (most recent call last)",
      "Cell \u001b[1;32mIn[14], line 1\u001b[0m\n\u001b[1;32m----> 1\u001b[0m \u001b[38;5;28mprint\u001b[39m(\u001b[43mmyvariable\u001b[49m)\n",
      "\u001b[1;31mNameError\u001b[0m: name 'myvariable' is not defined"
     ]
    }
   ],
   "source": [
    "print(myvariable)"
   ]
  },
  {
   "cell_type": "code",
   "execution_count": null,
   "id": "53c7a6a1",
   "metadata": {},
   "outputs": [],
   "source": []
  }
 ],
 "metadata": {
  "kernelspec": {
   "display_name": "Python 3 (ipykernel)",
   "language": "python",
   "name": "python3"
  },
  "language_info": {
   "codemirror_mode": {
    "name": "ipython",
    "version": 3
   },
   "file_extension": ".py",
   "mimetype": "text/x-python",
   "name": "python",
   "nbconvert_exporter": "python",
   "pygments_lexer": "ipython3",
   "version": "3.11.5"
  }
 },
 "nbformat": 4,
 "nbformat_minor": 5
}
